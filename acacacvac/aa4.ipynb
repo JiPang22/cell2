import numpy as np

# Constants
imax = 50001
om_ext = [0.4, 0.7, 1.0, 1.3, 1.6, 1.9]

# Arrays for time and voltage
time = np.zeros(imax, dtype=np.float64)
voltage = np.zeros(imax, dtype=np.float64)

# Loop through k = 0 to 5
for k in range(6):
    kk = k + 1
    filename = f'/home/jp/cell2/30/C1Trace0000{k}.txt'

    # Read data from the file, skipping the first 50006 lines
    with open(filename, 'r') as file:
        for i in range(50006):
            file.readline()  # Skip first 50006 lines

        xt30_data = []
        for line in file:
            time_temp, voltage_temp = map(float, line.split())
            xt30_data.append((time_temp, voltage_temp))

    # Write data to xt30 file
    with open('xt30', 'a') as xt30_file:
        for time_temp, voltage_temp in xt30_data:
            xt30_file.write(f'{time_temp:10.6f} {voltage_temp:10.6f}\n')

    # Read xt30 file
    with open('xt30', 'r') as xt30_file:
        for i, line in enumerate(xt30_file):
            time_temp2, voltage_temp2 = map(float, line.split())
            time[i] = time_temp2
            voltage[i] = voltage_temp2

    # Reset sumIM and sumRE
    sumIM = 0.0
    sumRE = 0.0

    # Calculate dt and sumIM, sumRE
    dt = 1.e-7
    for i in range(imax):
        sumRE += dt * voltage[i] * np.cos(om_ext[kk-1] * time[i])
        sumIM += dt * voltage[i] * np.sin(om_ext[kk-1] * time[i])

    # Write result to bb file
    with open('bb', 'a') as bb_file:
        result = 2.0 * np.sqrt(sumIM**2 + sumRE**2)
        bb_file.write(f'{om_ext[kk-1]} {result}\n')

    # Optionally, print the result
    print(f'{om_ext[kk-1]} {result}')
